{
 "cells": [
  {
   "cell_type": "code",
   "execution_count": null,
   "metadata": {},
   "outputs": [],
   "source": [
    "from importlib import reload\n",
    "from scipy.optimize import curve_fit\n",
    "import os\n",
    "import data_processing as dp\n",
    "import numpy as np\n",
    "import matplotlib.pyplot as plt\n",
    "dp = reload(dp)"
   ]
  },
  {
   "cell_type": "code",
   "execution_count": null,
   "metadata": {},
   "outputs": [],
   "source": [
    "def dir_filter(directory):\n",
    "    dir_name = directory.name\n",
    "    name_index = dir_name.split(\"_\")\n",
    "    return name_index[0] == \"explore\"\n",
    "\n",
    "root = os.getcwd()\n",
    "output_path = os.path.join(root, \"..\", \"output\")\n",
    "dirs = list(os.scandir(output_path))\n",
    "\n",
    "# observables to investigate\n",
    "obs_names = [\"dual_graph_shell\", \"dual_tree_shell\", \"edge_degree\", \"edge_detour\", \"edge_freq\", \"edge_middle\", \"triangle_detour\", \"triangle_freq\", \"triangle_middle\", \"vertex_count\", \"vertex_degree\", \"vertex_tree_shell\", \"volume\"]\n",
    "#obs_names = [\"dual_dist_prof\", \"edge_degree\", \"edge_detour\", \"edge_middle\", \"triangle_detour\", \"triangle_middle\", \"vertex_count\", \"vertex_degree\", \"volume\"]\n",
    "\n",
    "# build a container\n",
    "all_data = np.empty((len(obs_names), 6), dtype=object)\n",
    "for i in range(all_data.shape[0]):\n",
    "    for j in range(all_data.shape[1]):\n",
    "        all_data[i][j] = []\n",
    "\n",
    "# gather the data\n",
    "for directory in dirs:\n",
    "    if dir_filter(directory):\n",
    "        dirname = directory.name\n",
    "\n",
    "        for i in range(len(obs_names)):\n",
    "            obs_data = dp.DataSet.load(dirname, obs_names[i])\n",
    "            obs_max = obs_data.transform(trans=\"max\")\n",
    "            obs_parity = obs_data.transform(trans=\"parity\")\n",
    "            all_data[i][0].append(obs_data.histogram())\n",
    "            all_data[i][1].append(obs_max.histogram())\n",
    "            all_data[i][2].append(obs_max.bootstrap(\"mean\", 1000))\n",
    "            all_data[i][3].append(obs_max.bootstrap(\"std\", 1000))\n",
    "            all_data[i][4].append(obs_parity.bootstrap(\"mean\", 1000))\n",
    "            all_data[i][5].append(obs_parity.bootstrap(\"std\", 1000))\n",
    "        print(\"And another one!\")\n"
   ]
  },
  {
   "cell_type": "code",
   "execution_count": null,
   "metadata": {},
   "outputs": [],
   "source": [
    "\n",
    "\n",
    "def kappa_curve(N, kappa_c, c, nu):\n",
    "    return kappa_c + c * np.power(N, -nu)\n",
    "\n",
    "# find peaks\n",
    "df = dp.process_volume_kappa(all_data[10][3])\n",
    "dp.write_data_frame(df, \"test\")\n",
    "df_peak = dp.get_peak_data(df)\n",
    "dp.write_data_frame(df_peak, \"peak_fit\")\n",
    "print(df_peak)\n",
    "\n",
    "# fit curve\n",
    "popt, pcov = curve_fit(kappa_curve, df_peak[\"volume\"], df_peak[\"kappa\"], bounds=([-np.inf, 0, 0], [np.inf, np.inf, np.inf]))\n",
    "print(popt)\n",
    "plt.plot(df_peak[\"volume\"], df_peak[\"kappa\"])\n",
    "plt.plot(df_peak[\"volume\"], kappa_curve(df_peak[\"volume\"], *popt))\n",
    "plt.show()"
   ]
  },
  {
   "cell_type": "code",
   "execution_count": null,
   "metadata": {},
   "outputs": [],
   "source": [
    "%matplotlib widget\n",
    "for i in range(len(obs_names)):\n",
    "    df_max_mean = dp.process_volume_kappa(all_data[i][2])\n",
    "    df_max_sus = dp.process_volume_kappa(all_data[i][3])\n",
    "    df_par_mean = dp.process_volume_kappa(all_data[i][4])\n",
    "    df_par_sus = dp.process_volume_kappa(all_data[i][5])\n",
    "    dp.write_data_frame(df_max_mean, f\"{obs_names[i]}_max\")\n",
    "    dp.write_data_frame(df_max_sus, f\"{obs_names[i]}_max_sus\")\n",
    "    dp.write_data_frame(df_par_mean, f\"{obs_names[i]}_par\")\n",
    "    dp.write_data_frame(df_par_sus, f\"{obs_names[i]}_par_sus\")\n",
    "    dp.volume_kappa_plot(df_max_mean, 0.5, title=f\"max {obs_names[i]}\")\n",
    "    dp.volume_kappa_plot(df_max_sus, 0.5, title=f\"max {obs_names[i]} - susceptibility\")\n",
    "    dp.volume_kappa_plot(df_par_mean, 0.5, title=f\"par {obs_names[i]}\")\n",
    "    dp.volume_kappa_plot(df_par_sus, 0.5, title=f\"par {obs_names[i]} - susceptibility\")"
   ]
  }
 ],
 "metadata": {
  "kernelspec": {
   "display_name": "Python 3",
   "language": "python",
   "name": "python3"
  },
  "language_info": {
   "codemirror_mode": {
    "name": "ipython",
    "version": 3
   },
   "file_extension": ".py",
   "mimetype": "text/x-python",
   "name": "python",
   "nbconvert_exporter": "python",
   "pygments_lexer": "ipython3",
   "version": "3.11.3"
  },
  "orig_nbformat": 4
 },
 "nbformat": 4,
 "nbformat_minor": 2
}
